{
 "cells": [
  {
   "cell_type": "code",
   "execution_count": 1,
   "id": "19a15e84",
   "metadata": {},
   "outputs": [],
   "source": [
    "import pandas as pd\n",
    "import numpy as np\n",
    "import math\n",
    "from pyomo.environ import *\n",
    "from pyomo.opt import SolverFactory\n",
    "import os\n",
    "solver_location = \"C:\\\\Users\\\\DeepakYadav\\\\OneDrive - Tata Insights and Quants\\\\Optimization\\\\Shipment\\\\cbc\"\n",
    "os.chdir(r'C:\\\\Users\\\\DeepakYadav\\\\OneDrive - Tata Insights and Quants\\\\Optimization\\\\Shipment')"
   ]
  },
  {
   "cell_type": "code",
   "execution_count": 2,
   "id": "a40aef8a",
   "metadata": {},
   "outputs": [],
   "source": [
    "import time"
   ]
  },
  {
   "cell_type": "code",
   "execution_count": 3,
   "id": "7162806b",
   "metadata": {},
   "outputs": [],
   "source": [
    "start = time.time()"
   ]
  },
  {
   "cell_type": "code",
   "execution_count": 4,
   "id": "71996657",
   "metadata": {},
   "outputs": [],
   "source": [
    "df = pd.read_excel('KitchTech.xlsx',sheet_name = 'Sheet1')"
   ]
  },
  {
   "cell_type": "code",
   "execution_count": 5,
   "id": "7f8e7dc5",
   "metadata": {},
   "outputs": [],
   "source": [
    "df.set_index(['Type'],inplace = True)"
   ]
  },
  {
   "cell_type": "code",
   "execution_count": 6,
   "id": "d6b3a43c",
   "metadata": {},
   "outputs": [],
   "source": [
    "#DefiningSets\n",
    "s_types = list(set(df.index))\n",
    "s_i = [[1,2],[5,6]]"
   ]
  },
  {
   "cell_type": "code",
   "execution_count": 7,
   "id": "e4dd35c3",
   "metadata": {},
   "outputs": [],
   "source": [
    "#DefiningParams\n",
    "p_weight = df['Weight'].to_dict()\n",
    "p_values = df['Values'].to_dict()"
   ]
  },
  {
   "cell_type": "code",
   "execution_count": 8,
   "id": "7f5052b0",
   "metadata": {},
   "outputs": [],
   "source": [
    "#DefiningVariables\n",
    "model = ConcreteModel()\n",
    "\n",
    "model.v_type_selected = Var(s_types, domain = Binary)\n",
    "model.v_shipped = Var(s_types, domain = NonNegativeIntegers)\n",
    "model.v_engage = Var(s_i, domain = Binary)"
   ]
  },
  {
   "cell_type": "code",
   "execution_count": 9,
   "id": "8e664f6c",
   "metadata": {},
   "outputs": [],
   "source": [
    "#DefiningConstraints\n",
    "def C1_rule(model,i):\n",
    "    return model.v_shipped[i] <= 10\n",
    "model.C1 = Constraint(s_types, rule = C1_rule)\n",
    "\n",
    "def C2_rule(model):\n",
    "    return model.v_type_selected[4] >= model.v_type_selected[3]\n",
    "model.C2 = Constraint(rule = C2_rule)\n",
    "\n",
    "model.C6 = ConstraintList()\n",
    "for i in s_i:\n",
    "    model.C6.add(sum(model.v_shipped[j] for j in i) >= 4 * model.v_engage[i])\n",
    "    \n",
    "model.C8 = ConstraintList()\n",
    "for i in s_i:\n",
    "    model.C8.add(sum(model.v_shipped[j] for j in i) <= 100 * model.v_engage[i])\n",
    "    \n",
    "model.C7 = ConstraintList()\n",
    "for i in range(len(s_i) - 1):\n",
    "    model.C7.add(model.v_engage[s_i[i]] + model.v_engage[s_i[i+1]] >= 1)    \n",
    "\n",
    "def C3_rule(model,i):\n",
    "    return model.v_shipped[i] <= 1000 * model.v_type_selected[i]\n",
    "model.C3 = Constraint(s_types, rule = C3_rule)\n",
    "\n",
    "def C5_rule(model,i):\n",
    "    return model.v_shipped[i] >= model.v_type_selected[i]\n",
    "model.C5 = Constraint(s_types,rule = C5_rule)\n",
    "\n",
    "def C4_rule(model):\n",
    "    return sum(model.v_shipped[i] * p_weight[i] for i in s_types) <= 1000\n",
    "model.C4 = Constraint(rule = C4_rule)"
   ]
  },
  {
   "cell_type": "code",
   "execution_count": 10,
   "id": "51ce9ad2",
   "metadata": {},
   "outputs": [],
   "source": [
    "#DefiningObjective\n",
    "model.value = Objective(\n",
    "    expr=sum(model.v_shipped[i] * p_values[i] for i in s_types),\n",
    "    sense=maximize\n",
    ")"
   ]
  },
  {
   "cell_type": "code",
   "execution_count": 11,
   "id": "b81e3751",
   "metadata": {},
   "outputs": [
    {
     "name": "stdout",
     "output_type": "stream",
     "text": [
      "Welcome to the CBC MILP Solver \n",
      "Version: 2.10 \n",
      "Build Date: Oct 13 2019 \n",
      "\n",
      "command line - C:\\Users\\DeepakYadav\\OneDrive - Tata Insights and Quants\\Optimization\\Shipment\\cbc.exe -printingOptions all -import C:\\Users\\DEEPAK~1\\AppData\\Local\\Temp\\tmp7ifc8sfq.pyomo.lp -stat=1 -solve -solu C:\\Users\\DEEPAK~1\\AppData\\Local\\Temp\\tmp7ifc8sfq.pyomo.soln (default strategy 1)\n",
      "Option for printingOptions changed from normal to all\n",
      " CoinLpIO::readLp(): Maximization problem reformulated as minimization\n",
      "Coin0009I Switching back to maximization to get correct duals etc\n",
      "Presolve is modifying 6 integer bounds and re-presolving\n",
      "Presolve 19 (-6) rows, 14 (0) columns and 46 (-6) elements\n",
      "Statistics for presolved model\n",
      "Original problem has 14 integers (8 of which binary)\n",
      "==== 8 zero objective 6 different\n",
      "8 variables have objective of -0\n",
      "1 variables have objective of 20\n",
      "1 variables have objective of 40\n",
      "1 variables have objective of 60\n",
      "2 variables have objective of 70\n",
      "1 variables have objective of 90\n",
      "==== absolute objective values 6 different\n",
      "8 variables have objective of 0\n",
      "1 variables have objective of 20\n",
      "1 variables have objective of 40\n",
      "1 variables have objective of 60\n",
      "2 variables have objective of 70\n",
      "1 variables have objective of 90\n",
      "==== for integers 8 zero objective 6 different\n",
      "8 variables have objective of -0\n",
      "1 variables have objective of 20\n",
      "1 variables have objective of 40\n",
      "1 variables have objective of 60\n",
      "2 variables have objective of 70\n",
      "1 variables have objective of 90\n",
      "==== for integers absolute objective values 6 different\n",
      "8 variables have objective of 0\n",
      "1 variables have objective of 20\n",
      "1 variables have objective of 40\n",
      "1 variables have objective of 60\n",
      "2 variables have objective of 70\n",
      "1 variables have objective of 90\n",
      "===== end objective counts\n",
      "\n",
      "\n",
      "Problem has 19 rows, 14 columns (6 with objective) and 46 elements\n",
      "Column breakdown:\n",
      "0 of type 0.0->inf, 6 of type 0.0->up, 0 of type lo->inf, \n",
      "0 of type lo->up, 0 of type free, 0 of type fixed, \n",
      "0 of type -inf->0.0, 0 of type -inf->up, 8 of type 0.0->1.0 \n",
      "Row breakdown:\n",
      "0 of type E 0.0, 0 of type E 1.0, 0 of type E -1.0, \n",
      "0 of type E other, 0 of type G 0.0, 1 of type G 1.0, \n",
      "0 of type G other, 17 of type L 0.0, 0 of type L 1.0, \n",
      "1 of type L other, 0 of type Range 0.0->1.0, 0 of type Range other, \n",
      "0 of type Free \n",
      "Continuous objective value is 1956.69 - 0.00 seconds\n",
      "Cgl0004I processed model has 19 rows, 14 columns (14 integer (8 of which binary)) and 46 elements\n",
      "Cutoff increment increased from 1e-05 to 9.9999\n",
      "Cbc0038I Initial state - 3 integers unsatisfied sum - 0.785714\n",
      "Cbc0038I Pass   1: suminf.    0.05000 (1) obj. -1390 iterations 6\n",
      "Cbc0038I Pass   2: suminf.    0.00000 (0) obj. -1660 iterations 3\n",
      "Cbc0038I Solution found of -1660\n",
      "Cbc0038I Cleaned solution of -1660\n",
      "Cbc0038I Rounding solution of -1930 is better than previous of -1660\n",
      "\n",
      "Cbc0038I Before mini branch and bound, 11 integers at bound fixed and 0 continuous\n",
      "Cbc0038I Mini branch and bound did not improve solution (0.01 seconds)\n",
      "Cbc0038I Round again with cutoff of -1940.29\n",
      "Cbc0038I Reduced cost fixing fixed 4 variables on major pass 2\n",
      "Cbc0038I Pass   3: suminf.    0.47000 (2) obj. -1940.29 iterations 1\n",
      "Cbc0038I Solution found of -1940.29\n",
      "Cbc0038I Branch and bound needed to clear up 1 general integers\n",
      "Cbc0038I Mini branch and bound could not fix general integers\n",
      "Cbc0038I No solution found this major pass\n",
      "Cbc0038I Before mini branch and bound, 11 integers at bound fixed and 0 continuous\n",
      "Cbc0038I Mini branch and bound did not improve solution (0.01 seconds)\n",
      "Cbc0038I After 0.01 seconds - Feasibility pump exiting with objective of -1930 - took 0.00 seconds\n",
      "Cbc0012I Integer solution of -1930 found by feasibility pump after 0 iterations and 0 nodes (0.01 seconds)\n",
      "Cbc0006I The LP relaxation is infeasible or too expensive\n",
      "Cbc0013I At root node, 0 cuts changed objective from -1942.8571 to -1937.7778 in 1 passes\n",
      "Cbc0014I Cut generator 0 (Probing) - 3 row cuts average 2.7 elements, 3 column cuts (3 active)  in 0.000 seconds - new frequency is 1\n",
      "Cbc0014I Cut generator 1 (Gomory) - 0 row cuts average 0.0 elements, 0 column cuts (0 active)  in 0.000 seconds - new frequency is -100\n",
      "Cbc0014I Cut generator 2 (Knapsack) - 0 row cuts average 0.0 elements, 0 column cuts (0 active)  in 0.000 seconds - new frequency is -100\n",
      "Cbc0014I Cut generator 3 (Clique) - 0 row cuts average 0.0 elements, 0 column cuts (0 active)  in 0.000 seconds - new frequency is -100\n",
      "Cbc0014I Cut generator 4 (MixedIntegerRounding2) - 0 row cuts average 0.0 elements, 0 column cuts (0 active)  in 0.000 seconds - new frequency is -100\n",
      "Cbc0014I Cut generator 5 (FlowCover) - 0 row cuts average 0.0 elements, 0 column cuts (0 active)  in 0.000 seconds - new frequency is -100\n",
      "Cbc0014I Cut generator 7 (ZeroHalf) - 0 row cuts average 0.0 elements, 0 column cuts (0 active)  in 0.000 seconds - new frequency is -100\n",
      "Cbc0001I Search completed - best objective -1930, took 0 iterations and 0 nodes (0.02 seconds)\n",
      "Cbc0035I Maximum depth 0, 0 variables fixed on reduced cost\n",
      "Cuts at root node changed objective from -1942.86 to -1937.78\n",
      "Probing was tried 1 times and created 6 cuts of which 0 were active after adding rounds of cuts (0.000 seconds)\n",
      "Gomory was tried 0 times and created 0 cuts of which 0 were active after adding rounds of cuts (0.000 seconds)\n",
      "Knapsack was tried 0 times and created 0 cuts of which 0 were active after adding rounds of cuts (0.000 seconds)\n",
      "Clique was tried 0 times and created 0 cuts of which 0 were active after adding rounds of cuts (0.000 seconds)\n",
      "MixedIntegerRounding2 was tried 0 times and created 0 cuts of which 0 were active after adding rounds of cuts (0.000 seconds)\n",
      "FlowCover was tried 0 times and created 0 cuts of which 0 were active after adding rounds of cuts (0.000 seconds)\n",
      "TwoMirCuts was tried 0 times and created 0 cuts of which 0 were active after adding rounds of cuts (0.000 seconds)\n",
      "ZeroHalf was tried 0 times and created 0 cuts of which 0 were active after adding rounds of cuts (0.000 seconds)\n",
      "\n",
      "Result - Optimal solution found\n",
      "\n",
      "Objective value:                1930.00000000\n",
      "Enumerated nodes:               0\n",
      "Total iterations:               0\n",
      "Time (CPU seconds):             0.02\n",
      "Time (Wallclock seconds):       0.02\n",
      "\n",
      "Total time (CPU seconds):       0.03   (Wallclock seconds):       0.03\n",
      "\n",
      "# ==========================================================\n",
      "# = Solver Results                                         =\n",
      "# ==========================================================\n",
      "# ----------------------------------------------------------\n",
      "#   Problem Information\n",
      "# ----------------------------------------------------------\n",
      "Problem: \n",
      "- Name: unknown\n",
      "  Lower bound: -1930.0\n",
      "  Upper bound: -1930.0\n",
      "  Number of objectives: 1\n",
      "  Number of constraints: 19\n",
      "  Number of variables: 14\n",
      "  Number of binary variables: 8\n",
      "  Number of integer variables: 14\n",
      "  Number of nonzeros: 6\n",
      "  Sense: maximize\n",
      "# ----------------------------------------------------------\n",
      "#   Solver Information\n",
      "# ----------------------------------------------------------\n",
      "Solver: \n",
      "- Status: ok\n",
      "  User time: -1.0\n",
      "  System time: 0.03\n",
      "  Wallclock time: 0.03\n",
      "  Termination condition: optimal\n",
      "  Termination message: Model was solved to optimality (subject to tolerances), and an optimal solution is available.\n",
      "  Statistics: \n",
      "    Branch and bound: \n",
      "      Number of bounded subproblems: 0\n",
      "      Number of created subproblems: 0\n",
      "    Black box: \n",
      "      Number of iterations: 0\n",
      "  Error rc: 0\n",
      "  Time: 0.1419363021850586\n",
      "# ----------------------------------------------------------\n",
      "#   Solution Information\n",
      "# ----------------------------------------------------------\n",
      "Solution: \n",
      "- number of solutions: 0\n",
      "  number of solutions displayed: 0\n",
      "Optimal Solution:\n"
     ]
    }
   ],
   "source": [
    "#Run Model\n",
    "optimizer = SolverFactory(\"cbc\", executable = solver_location)\n",
    "#optimizer.options['ratio'] = 7e-2\n",
    "results = optimizer.solve(model,tee=True) \n",
    "results.write()\n",
    "print(\"Optimal Solution:\")"
   ]
  },
  {
   "cell_type": "code",
   "execution_count": 26,
   "id": "18b8242d",
   "metadata": {},
   "outputs": [
    {
     "name": "stdout",
     "output_type": "stream",
     "text": [
      " type 1: # of shipped is 10.0\n",
      " type 2: # of shipped is 10.0\n",
      " type 6: # of shipped is 7.0\n"
     ]
    }
   ],
   "source": [
    "#Post Process\n",
    "for s in s_types:\n",
    "    if model.v_shipped[s].value>0:\n",
    "            print(f\" type {s}: # of shipped is {model.v_shipped[s].value}\")"
   ]
  },
  {
   "cell_type": "code",
   "execution_count": 13,
   "id": "1f8aaf52",
   "metadata": {},
   "outputs": [],
   "source": [
    "end = time.time()"
   ]
  },
  {
   "cell_type": "code",
   "execution_count": 14,
   "id": "52346a75",
   "metadata": {},
   "outputs": [
    {
     "data": {
      "text/plain": [
       "0.8431961536407471"
      ]
     },
     "execution_count": 14,
     "metadata": {},
     "output_type": "execute_result"
    }
   ],
   "source": [
    "elapsed_time = end - start\n",
    "elapsed_time"
   ]
  },
  {
   "cell_type": "code",
   "execution_count": 15,
   "id": "2b0ba675",
   "metadata": {},
   "outputs": [
    {
     "name": "stdout",
     "output_type": "stream",
     "text": [
      "v_shipped : Size=6, Index=v_shipped_index\n",
      "    Key : Lower : Value : Upper : Fixed : Stale : Domain\n",
      "      1 :     0 :  10.0 :  None : False : False : NonNegativeIntegers\n",
      "      2 :     0 :  10.0 :  None : False : False : NonNegativeIntegers\n",
      "      3 :     0 :   0.0 :  None : False : False : NonNegativeIntegers\n",
      "      4 :     0 :   0.0 :  None : False : False : NonNegativeIntegers\n",
      "      5 :     0 :   0.0 :  None : False : False : NonNegativeIntegers\n",
      "      6 :     0 :   7.0 :  None : False : False : NonNegativeIntegers\n"
     ]
    }
   ],
   "source": [
    "model.v_shipped.pprint()"
   ]
  },
  {
   "cell_type": "code",
   "execution_count": 16,
   "id": "af42ad6b",
   "metadata": {},
   "outputs": [
    {
     "name": "stdout",
     "output_type": "stream",
     "text": [
      "v_type_selected : Size=6, Index=v_type_selected_index\n",
      "    Key : Lower : Value : Upper : Fixed : Stale : Domain\n",
      "      1 :     0 :   1.0 :     1 : False : False : Binary\n",
      "      2 :     0 :   1.0 :     1 : False : False : Binary\n",
      "      3 :     0 :   0.0 :     1 : False : False : Binary\n",
      "      4 :     0 :   0.0 :     1 : False : False : Binary\n",
      "      5 :     0 :   0.0 :     1 : False : False : Binary\n",
      "      6 :     0 :   1.0 :     1 : False : False : Binary\n"
     ]
    }
   ],
   "source": [
    "model.v_type_selected.pprint()"
   ]
  },
  {
   "cell_type": "code",
   "execution_count": 17,
   "id": "3c5903a0",
   "metadata": {},
   "outputs": [
    {
     "name": "stdout",
     "output_type": "stream",
     "text": [
      "C2 : Size=1, Index=None, Active=True\n",
      "    Key  : Lower : Body                                    : Upper : Active\n",
      "    None :  -Inf : v_type_selected[3] - v_type_selected[4] :   0.0 :   True\n"
     ]
    }
   ],
   "source": [
    "model.C2.pprint()"
   ]
  },
  {
   "cell_type": "code",
   "execution_count": 18,
   "id": "c9b195df",
   "metadata": {},
   "outputs": [
    {
     "name": "stdout",
     "output_type": "stream",
     "text": [
      "C1 : Size=6, Index=C1_index, Active=True\n",
      "    Key : Lower : Body         : Upper : Active\n",
      "      1 :  -Inf : v_shipped[1] :  10.0 :   True\n",
      "      2 :  -Inf : v_shipped[2] :  10.0 :   True\n",
      "      3 :  -Inf : v_shipped[3] :  10.0 :   True\n",
      "      4 :  -Inf : v_shipped[4] :  10.0 :   True\n",
      "      5 :  -Inf : v_shipped[5] :  10.0 :   True\n",
      "      6 :  -Inf : v_shipped[6] :  10.0 :   True\n"
     ]
    }
   ],
   "source": [
    "model.C1.pprint()"
   ]
  },
  {
   "cell_type": "code",
   "execution_count": 19,
   "id": "d0b97080",
   "metadata": {},
   "outputs": [
    {
     "name": "stdout",
     "output_type": "stream",
     "text": [
      "v_engage : Size=2, Index=v_engage_index\n",
      "    Key    : Lower : Value : Upper : Fixed : Stale : Domain\n",
      "    (1, 2) :     0 :   1.0 :     1 : False : False : Binary\n",
      "    (5, 6) :     0 :   1.0 :     1 : False : False : Binary\n"
     ]
    }
   ],
   "source": [
    "model.v_engage.pprint()"
   ]
  },
  {
   "cell_type": "code",
   "execution_count": 20,
   "id": "b3136f06",
   "metadata": {},
   "outputs": [
    {
     "name": "stdout",
     "output_type": "stream",
     "text": [
      "C7 : Size=1, Index=C7_index, Active=True\n",
      "    Key : Lower : Body                          : Upper : Active\n",
      "      1 :   1.0 : v_engage[1,2] + v_engage[5,6] :  +Inf :   True\n"
     ]
    }
   ],
   "source": [
    "model.C7.pprint()"
   ]
  },
  {
   "cell_type": "code",
   "execution_count": 21,
   "id": "870a78a4",
   "metadata": {},
   "outputs": [
    {
     "name": "stdout",
     "output_type": "stream",
     "text": [
      "C6 : Size=2, Index=C6_index, Active=True\n",
      "    Key : Lower : Body                                            : Upper : Active\n",
      "      1 :  -Inf : 4*v_engage[1,2] - (v_shipped[1] + v_shipped[2]) :   0.0 :   True\n",
      "      2 :  -Inf : 4*v_engage[5,6] - (v_shipped[5] + v_shipped[6]) :   0.0 :   True\n"
     ]
    }
   ],
   "source": [
    "model.C6.pprint()"
   ]
  },
  {
   "cell_type": "markdown",
   "id": "b642f0b0",
   "metadata": {},
   "source": [
    "# Comments"
   ]
  },
  {
   "cell_type": "code",
   "execution_count": 22,
   "id": "20c6cc36",
   "metadata": {},
   "outputs": [],
   "source": [
    "# model.C20 = ConstraintList()\n",
    "# for i in s_i:\n",
    "#     g = sum(model.v_shipped[j] for j in i)\n",
    "#     model.C20.add(g - 4 <= 1000 * model.v_engage[i])"
   ]
  },
  {
   "cell_type": "code",
   "execution_count": 23,
   "id": "e6422dee",
   "metadata": {},
   "outputs": [],
   "source": [
    "# v = [1,2]\n",
    "# def C6_rule(model):\n",
    "#     return sum(model.v_shipped[i] for i in v) >=  4\n",
    "# model.C6 = Constraint(rule = C6_rule)\n",
    "\n",
    "# u = [5,6]\n",
    "# def C7_rule(model):\n",
    "#     return sum(model.v_shipped[i] for i in u) >= 4\n",
    "# model.C7 = Constraint(rule = C7_rule)"
   ]
  },
  {
   "cell_type": "code",
   "execution_count": 24,
   "id": "38e4dff7",
   "metadata": {},
   "outputs": [],
   "source": [
    "# model.C4 = Constraint(expr=sum(model.v_shipped[i] * p_weight[i] for i in s_types) <= 1000)"
   ]
  },
  {
   "cell_type": "code",
   "execution_count": 25,
   "id": "e86bdeda",
   "metadata": {},
   "outputs": [],
   "source": [
    "# #Post Process\n",
    "# df_out=pd.DataFrame()\n",
    "# for s in s_types:\n",
    "#     df_out=df_out.append([[s,model.v_shipped[s].value]],ignore_index=True)\n",
    "#     if model.v_shipped[s].value>0:\n",
    "#             print(f\" type {s}: # of shipped is {model.v_shipped[s].value}\")\n",
    "#             #df_out=df_out.append([[i,j,model.v_x[i,j].value]],ignore_index=True)\n",
    "# df_out.columns=['Types' ,'Values']\n",
    "# df_out=pd.pivot(df_out,columns ='Types',values='Values')\n",
    "# df_out.to_excel('KitchTech Shipment.xlsx')"
   ]
  }
 ],
 "metadata": {
  "kernelspec": {
   "display_name": "Python 3 (ipykernel)",
   "language": "python",
   "name": "python3"
  },
  "language_info": {
   "codemirror_mode": {
    "name": "ipython",
    "version": 3
   },
   "file_extension": ".py",
   "mimetype": "text/x-python",
   "name": "python",
   "nbconvert_exporter": "python",
   "pygments_lexer": "ipython3",
   "version": "3.10.9"
  }
 },
 "nbformat": 4,
 "nbformat_minor": 5
}
